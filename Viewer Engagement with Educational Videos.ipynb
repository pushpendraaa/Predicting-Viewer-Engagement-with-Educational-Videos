{
 "cells": [
  {
   "cell_type": "markdown",
   "id": "fe80845b",
   "metadata": {},
   "source": [
    "# Viewer Engagement with Educational Videos"
   ]
  },
  {
   "cell_type": "markdown",
   "id": "0d75e796",
   "metadata": {},
   "source": [
    "In this data set we have 2  data csv files, 1st is the train.csv in which we have to make the model to predict the viewer engagement and we have to use that Machine Learning model on the 2nd dataframe test.csv"
   ]
  },
  {
   "cell_type": "markdown",
   "id": "d391f4af",
   "metadata": {},
   "source": [
    "According to the dataset, The target variable is `engagement` which was defined as True if the median percentage of the video watched across all viewers was at least 30%, and False otherwise."
   ]
  },
  {
   "cell_type": "code",
   "execution_count": 139,
   "id": "8f969223",
   "metadata": {},
   "outputs": [],
   "source": [
    "%matplotlib inline\n",
    "import pandas as pd\n",
    "import numpy as np\n",
    "import seaborn as sns\n",
    "import matplotlib.pyplot as plt\n",
    "pd.set_option('display.max_columns',50)"
   ]
  },
  {
   "cell_type": "code",
   "execution_count": 140,
   "id": "29e6625e",
   "metadata": {},
   "outputs": [
    {
     "data": {
      "text/html": [
       "<div>\n",
       "<style scoped>\n",
       "    .dataframe tbody tr th:only-of-type {\n",
       "        vertical-align: middle;\n",
       "    }\n",
       "\n",
       "    .dataframe tbody tr th {\n",
       "        vertical-align: top;\n",
       "    }\n",
       "\n",
       "    .dataframe thead th {\n",
       "        text-align: right;\n",
       "    }\n",
       "</style>\n",
       "<table border=\"1\" class=\"dataframe\">\n",
       "  <thead>\n",
       "    <tr style=\"text-align: right;\">\n",
       "      <th></th>\n",
       "      <th>id</th>\n",
       "      <th>title_word_count</th>\n",
       "      <th>document_entropy</th>\n",
       "      <th>freshness</th>\n",
       "      <th>easiness</th>\n",
       "      <th>fraction_stopword_presence</th>\n",
       "      <th>normalization_rate</th>\n",
       "      <th>speaker_speed</th>\n",
       "      <th>silent_period_rate</th>\n",
       "      <th>engagement</th>\n",
       "    </tr>\n",
       "  </thead>\n",
       "  <tbody>\n",
       "    <tr>\n",
       "      <th>0</th>\n",
       "      <td>1</td>\n",
       "      <td>9</td>\n",
       "      <td>7.753995</td>\n",
       "      <td>16310</td>\n",
       "      <td>75.583936</td>\n",
       "      <td>0.553664</td>\n",
       "      <td>0.034049</td>\n",
       "      <td>2.997753</td>\n",
       "      <td>0.0</td>\n",
       "      <td>True</td>\n",
       "    </tr>\n",
       "    <tr>\n",
       "      <th>1</th>\n",
       "      <td>2</td>\n",
       "      <td>6</td>\n",
       "      <td>8.305269</td>\n",
       "      <td>15410</td>\n",
       "      <td>86.870523</td>\n",
       "      <td>0.584498</td>\n",
       "      <td>0.018763</td>\n",
       "      <td>2.635789</td>\n",
       "      <td>0.0</td>\n",
       "      <td>False</td>\n",
       "    </tr>\n",
       "    <tr>\n",
       "      <th>2</th>\n",
       "      <td>3</td>\n",
       "      <td>3</td>\n",
       "      <td>7.965583</td>\n",
       "      <td>15680</td>\n",
       "      <td>81.915968</td>\n",
       "      <td>0.605685</td>\n",
       "      <td>0.030720</td>\n",
       "      <td>2.538095</td>\n",
       "      <td>0.0</td>\n",
       "      <td>False</td>\n",
       "    </tr>\n",
       "    <tr>\n",
       "      <th>3</th>\n",
       "      <td>4</td>\n",
       "      <td>9</td>\n",
       "      <td>8.142877</td>\n",
       "      <td>15610</td>\n",
       "      <td>80.148937</td>\n",
       "      <td>0.593664</td>\n",
       "      <td>0.016873</td>\n",
       "      <td>2.259055</td>\n",
       "      <td>0.0</td>\n",
       "      <td>False</td>\n",
       "    </tr>\n",
       "    <tr>\n",
       "      <th>4</th>\n",
       "      <td>5</td>\n",
       "      <td>9</td>\n",
       "      <td>8.161250</td>\n",
       "      <td>14920</td>\n",
       "      <td>76.907549</td>\n",
       "      <td>0.581637</td>\n",
       "      <td>0.023412</td>\n",
       "      <td>2.420000</td>\n",
       "      <td>0.0</td>\n",
       "      <td>False</td>\n",
       "    </tr>\n",
       "  </tbody>\n",
       "</table>\n",
       "</div>"
      ],
      "text/plain": [
       "   id  title_word_count  document_entropy  freshness   easiness  \\\n",
       "0   1                 9          7.753995      16310  75.583936   \n",
       "1   2                 6          8.305269      15410  86.870523   \n",
       "2   3                 3          7.965583      15680  81.915968   \n",
       "3   4                 9          8.142877      15610  80.148937   \n",
       "4   5                 9          8.161250      14920  76.907549   \n",
       "\n",
       "   fraction_stopword_presence  normalization_rate  speaker_speed  \\\n",
       "0                    0.553664            0.034049       2.997753   \n",
       "1                    0.584498            0.018763       2.635789   \n",
       "2                    0.605685            0.030720       2.538095   \n",
       "3                    0.593664            0.016873       2.259055   \n",
       "4                    0.581637            0.023412       2.420000   \n",
       "\n",
       "   silent_period_rate  engagement  \n",
       "0                 0.0        True  \n",
       "1                 0.0       False  \n",
       "2                 0.0       False  \n",
       "3                 0.0       False  \n",
       "4                 0.0       False  "
      ]
     },
     "execution_count": 140,
     "metadata": {},
     "output_type": "execute_result"
    }
   ],
   "source": [
    "train = pd.read_csv('train.csv')\n",
    "train.head()"
   ]
  },
  {
   "cell_type": "code",
   "execution_count": 141,
   "id": "1f35e7a1",
   "metadata": {},
   "outputs": [
    {
     "data": {
      "text/html": [
       "<div>\n",
       "<style scoped>\n",
       "    .dataframe tbody tr th:only-of-type {\n",
       "        vertical-align: middle;\n",
       "    }\n",
       "\n",
       "    .dataframe tbody tr th {\n",
       "        vertical-align: top;\n",
       "    }\n",
       "\n",
       "    .dataframe thead th {\n",
       "        text-align: right;\n",
       "    }\n",
       "</style>\n",
       "<table border=\"1\" class=\"dataframe\">\n",
       "  <thead>\n",
       "    <tr style=\"text-align: right;\">\n",
       "      <th></th>\n",
       "      <th>id</th>\n",
       "      <th>title_word_count</th>\n",
       "      <th>document_entropy</th>\n",
       "      <th>freshness</th>\n",
       "      <th>easiness</th>\n",
       "      <th>fraction_stopword_presence</th>\n",
       "      <th>normalization_rate</th>\n",
       "      <th>speaker_speed</th>\n",
       "      <th>silent_period_rate</th>\n",
       "    </tr>\n",
       "  </thead>\n",
       "  <tbody>\n",
       "    <tr>\n",
       "      <th>0</th>\n",
       "      <td>9240</td>\n",
       "      <td>6</td>\n",
       "      <td>8.548351</td>\n",
       "      <td>14140</td>\n",
       "      <td>89.827395</td>\n",
       "      <td>0.640810</td>\n",
       "      <td>0.017945</td>\n",
       "      <td>2.262723</td>\n",
       "      <td>0.000000</td>\n",
       "    </tr>\n",
       "    <tr>\n",
       "      <th>1</th>\n",
       "      <td>9241</td>\n",
       "      <td>8</td>\n",
       "      <td>7.730110</td>\n",
       "      <td>14600</td>\n",
       "      <td>82.446667</td>\n",
       "      <td>0.606738</td>\n",
       "      <td>0.027708</td>\n",
       "      <td>2.690351</td>\n",
       "      <td>0.000000</td>\n",
       "    </tr>\n",
       "    <tr>\n",
       "      <th>2</th>\n",
       "      <td>9242</td>\n",
       "      <td>3</td>\n",
       "      <td>8.200887</td>\n",
       "      <td>16980</td>\n",
       "      <td>88.821542</td>\n",
       "      <td>0.621089</td>\n",
       "      <td>0.009857</td>\n",
       "      <td>3.116071</td>\n",
       "      <td>0.000000</td>\n",
       "    </tr>\n",
       "    <tr>\n",
       "      <th>3</th>\n",
       "      <td>9243</td>\n",
       "      <td>5</td>\n",
       "      <td>6.377299</td>\n",
       "      <td>16260</td>\n",
       "      <td>86.874660</td>\n",
       "      <td>0.600000</td>\n",
       "      <td>0.004348</td>\n",
       "      <td>2.837500</td>\n",
       "      <td>0.017994</td>\n",
       "    </tr>\n",
       "    <tr>\n",
       "      <th>4</th>\n",
       "      <td>9244</td>\n",
       "      <td>18</td>\n",
       "      <td>7.756530</td>\n",
       "      <td>14030</td>\n",
       "      <td>88.872277</td>\n",
       "      <td>0.616105</td>\n",
       "      <td>0.033240</td>\n",
       "      <td>1.354839</td>\n",
       "      <td>0.000000</td>\n",
       "    </tr>\n",
       "  </tbody>\n",
       "</table>\n",
       "</div>"
      ],
      "text/plain": [
       "     id  title_word_count  document_entropy  freshness   easiness  \\\n",
       "0  9240                 6          8.548351      14140  89.827395   \n",
       "1  9241                 8          7.730110      14600  82.446667   \n",
       "2  9242                 3          8.200887      16980  88.821542   \n",
       "3  9243                 5          6.377299      16260  86.874660   \n",
       "4  9244                18          7.756530      14030  88.872277   \n",
       "\n",
       "   fraction_stopword_presence  normalization_rate  speaker_speed  \\\n",
       "0                    0.640810            0.017945       2.262723   \n",
       "1                    0.606738            0.027708       2.690351   \n",
       "2                    0.621089            0.009857       3.116071   \n",
       "3                    0.600000            0.004348       2.837500   \n",
       "4                    0.616105            0.033240       1.354839   \n",
       "\n",
       "   silent_period_rate  \n",
       "0            0.000000  \n",
       "1            0.000000  \n",
       "2            0.000000  \n",
       "3            0.017994  \n",
       "4            0.000000  "
      ]
     },
     "execution_count": 141,
     "metadata": {},
     "output_type": "execute_result"
    }
   ],
   "source": [
    "test = pd.read_csv('test.csv')\n",
    "test.head()"
   ]
  },
  {
   "cell_type": "markdown",
   "id": "6fa89791",
   "metadata": {},
   "source": [
    "Lets do the indexing as per the train data to the test data which typically means adding one more column in 'test.csv' as similar to the 'train.csv' which further will be the prediction colum"
   ]
  },
  {
   "cell_type": "code",
   "execution_count": 142,
   "id": "6b1bccdb",
   "metadata": {},
   "outputs": [
    {
     "data": {
      "text/html": [
       "<div>\n",
       "<style scoped>\n",
       "    .dataframe tbody tr th:only-of-type {\n",
       "        vertical-align: middle;\n",
       "    }\n",
       "\n",
       "    .dataframe tbody tr th {\n",
       "        vertical-align: top;\n",
       "    }\n",
       "\n",
       "    .dataframe thead th {\n",
       "        text-align: right;\n",
       "    }\n",
       "</style>\n",
       "<table border=\"1\" class=\"dataframe\">\n",
       "  <thead>\n",
       "    <tr style=\"text-align: right;\">\n",
       "      <th></th>\n",
       "      <th>id</th>\n",
       "      <th>title_word_count</th>\n",
       "      <th>document_entropy</th>\n",
       "      <th>freshness</th>\n",
       "      <th>easiness</th>\n",
       "      <th>fraction_stopword_presence</th>\n",
       "      <th>normalization_rate</th>\n",
       "      <th>speaker_speed</th>\n",
       "      <th>silent_period_rate</th>\n",
       "      <th>engagement</th>\n",
       "    </tr>\n",
       "  </thead>\n",
       "  <tbody>\n",
       "    <tr>\n",
       "      <th>0</th>\n",
       "      <td>9240</td>\n",
       "      <td>6</td>\n",
       "      <td>8.548351</td>\n",
       "      <td>14140</td>\n",
       "      <td>89.827395</td>\n",
       "      <td>0.640810</td>\n",
       "      <td>0.017945</td>\n",
       "      <td>2.262723</td>\n",
       "      <td>0.000000</td>\n",
       "      <td>0</td>\n",
       "    </tr>\n",
       "    <tr>\n",
       "      <th>1</th>\n",
       "      <td>9241</td>\n",
       "      <td>8</td>\n",
       "      <td>7.730110</td>\n",
       "      <td>14600</td>\n",
       "      <td>82.446667</td>\n",
       "      <td>0.606738</td>\n",
       "      <td>0.027708</td>\n",
       "      <td>2.690351</td>\n",
       "      <td>0.000000</td>\n",
       "      <td>0</td>\n",
       "    </tr>\n",
       "    <tr>\n",
       "      <th>2</th>\n",
       "      <td>9242</td>\n",
       "      <td>3</td>\n",
       "      <td>8.200887</td>\n",
       "      <td>16980</td>\n",
       "      <td>88.821542</td>\n",
       "      <td>0.621089</td>\n",
       "      <td>0.009857</td>\n",
       "      <td>3.116071</td>\n",
       "      <td>0.000000</td>\n",
       "      <td>0</td>\n",
       "    </tr>\n",
       "    <tr>\n",
       "      <th>3</th>\n",
       "      <td>9243</td>\n",
       "      <td>5</td>\n",
       "      <td>6.377299</td>\n",
       "      <td>16260</td>\n",
       "      <td>86.874660</td>\n",
       "      <td>0.600000</td>\n",
       "      <td>0.004348</td>\n",
       "      <td>2.837500</td>\n",
       "      <td>0.017994</td>\n",
       "      <td>0</td>\n",
       "    </tr>\n",
       "    <tr>\n",
       "      <th>4</th>\n",
       "      <td>9244</td>\n",
       "      <td>18</td>\n",
       "      <td>7.756530</td>\n",
       "      <td>14030</td>\n",
       "      <td>88.872277</td>\n",
       "      <td>0.616105</td>\n",
       "      <td>0.033240</td>\n",
       "      <td>1.354839</td>\n",
       "      <td>0.000000</td>\n",
       "      <td>0</td>\n",
       "    </tr>\n",
       "  </tbody>\n",
       "</table>\n",
       "</div>"
      ],
      "text/plain": [
       "     id  title_word_count  document_entropy  freshness   easiness  \\\n",
       "0  9240                 6          8.548351      14140  89.827395   \n",
       "1  9241                 8          7.730110      14600  82.446667   \n",
       "2  9242                 3          8.200887      16980  88.821542   \n",
       "3  9243                 5          6.377299      16260  86.874660   \n",
       "4  9244                18          7.756530      14030  88.872277   \n",
       "\n",
       "   fraction_stopword_presence  normalization_rate  speaker_speed  \\\n",
       "0                    0.640810            0.017945       2.262723   \n",
       "1                    0.606738            0.027708       2.690351   \n",
       "2                    0.621089            0.009857       3.116071   \n",
       "3                    0.600000            0.004348       2.837500   \n",
       "4                    0.616105            0.033240       1.354839   \n",
       "\n",
       "   silent_period_rate  engagement  \n",
       "0            0.000000           0  \n",
       "1            0.000000           0  \n",
       "2            0.000000           0  \n",
       "3            0.017994           0  \n",
       "4            0.000000           0  "
      ]
     },
     "execution_count": 142,
     "metadata": {},
     "output_type": "execute_result"
    }
   ],
   "source": [
    "test = test.reindex(columns=train.columns, fill_value=0)\n",
    "test.head()"
   ]
  },
  {
   "cell_type": "markdown",
   "id": "c53c45e4",
   "metadata": {},
   "source": [
    "# Data Visualization"
   ]
  },
  {
   "cell_type": "code",
   "execution_count": 171,
   "id": "4cc46fb3",
   "metadata": {},
   "outputs": [
    {
     "name": "stderr",
     "output_type": "stream",
     "text": [
      "C:\\Users\\17pus\\AppData\\Local\\Temp\\ipykernel_12948\\2919155073.py:2: UserWarning: \n",
      "\n",
      "`distplot` is a deprecated function and will be removed in seaborn v0.14.0.\n",
      "\n",
      "Please adapt your code to use either `displot` (a figure-level function with\n",
      "similar flexibility) or `histplot` (an axes-level function for histograms).\n",
      "\n",
      "For a guide to updating your code to use the new functions, please see\n",
      "https://gist.github.com/mwaskom/de44147ed2974457ad6372750bbe5751\n",
      "\n",
      "  sns.distplot(train['easiness'])\n"
     ]
    },
    {
     "data": {
      "text/plain": [
       "<AxesSubplot: xlabel='easiness', ylabel='Density'>"
      ]
     },
     "execution_count": 171,
     "metadata": {},
     "output_type": "execute_result"
    },
    {
     "data": {
      "image/png": "[encoded data removed]",
      "text/plain": [
       "<Figure size 576x360 with 1 Axes>"
      ]
     },
     "metadata": {
      "needs_background": "light"
     },
     "output_type": "display_data"
    }
   ],
   "source": [
    "plt.figure(figsize = (8,5))\n",
    "sns.distplot(train['easiness'])"
   ]
  },
  {
   "cell_type": "code",
   "execution_count": 146,
   "id": "6cb742de",
   "metadata": {},
   "outputs": [],
   "source": [
    "train.drop('id', axis= 1, inplace = True)"
   ]
  },
  {
   "cell_type": "code",
   "execution_count": 156,
   "id": "311d0a1f",
   "metadata": {},
   "outputs": [
    {
     "data": {
      "text/plain": [
       "Text(0.5, 1.0, 'Correlation')"
      ]
     },
     "execution_count": 156,
     "metadata": {},
     "output_type": "execute_result"
    },
    {
     "data": {
      "image/png": "[encoded data removed]",
      "text/plain": [
       "<Figure size 576x360 with 2 Axes>"
      ]
     },
     "metadata": {
      "needs_background": "light"
     },
     "output_type": "display_data"
    }
   ],
   "source": [
    "plt.figure(figsize = (8,5))\n",
    "sns.heatmap(train.corr(), annot = True)\n",
    "plt.title('Correlation')"
   ]
  },
  {
   "cell_type": "code",
   "execution_count": 168,
   "id": "fafbc9d4",
   "metadata": {},
   "outputs": [
    {
     "data": {
      "image/png": "[encoded data removed]",
      "text/plain": [
       "<Figure size 1152x576 with 1 Axes>"
      ]
     },
     "metadata": {
      "needs_background": "light"
     },
     "output_type": "display_data"
    }
   ],
   "source": [
    "plt.figure(figsize = (16, 8))\n",
    "sns.lineplot(data = train, x = 'title_word_count', y= 'engagement', color = 'red')\n",
    "plt.title('Title Word Count vs Engagement')\n",
    "plt.show()"
   ]
  },
  {
   "cell_type": "markdown",
   "id": "85053831",
   "metadata": {},
   "source": [
    "So, lets make a function engagement_model() and apply our machine learning model on the test data 'test.csv'"
   ]
  },
  {
   "cell_type": "code",
   "execution_count": 166,
   "id": "94544166",
   "metadata": {},
   "outputs": [],
   "source": [
    "#%matplotlib notebook\n",
    "import pandas as pd\n",
    "import numpy as np\n",
    "#import matplotlib.pyplot as plt\n",
    "pd.set_option('display.max_columns',50)\n",
    "\n",
    "from sklearn.ensemble import RandomForestRegressor\n",
    "from sklearn.ensemble import GradientBoostingClassifier\n",
    "from sklearn.model_selection import train_test_split\n",
    "from sklearn.model_selection import GridSearchCV\n",
    "from sklearn.model_selection import cross_val_score\n",
    "from sklearn.preprocessing import LabelEncoder\n",
    "from sklearn.metrics import roc_auc_score\n",
    "\n",
    "def engagement_model():\n",
    "    # Reading files:\n",
    "    train = pd.read_csv('train.csv')\n",
    "    test = pd.read_csv('test.csv')\n",
    "    test = test.reindex(columns=train.columns, fill_value=0)\n",
    "\n",
    "    # Create a label encoder object\n",
    "    label_encoder = LabelEncoder()\n",
    "    # Fit the label encoder to the training data\n",
    "    label_encoder.fit(train[\"engagement\"])\n",
    "    # Transform the engagement column in the test dataframe using the transform method\n",
    "    test[\"engagement_encoded\"] = label_encoder.transform(test[\"engagement\"])\n",
    "    \n",
    "    # Feature names and train test split\n",
    "    feature_names = ['title_word_count', 'document_entropy', 'freshness', 'easiness',\n",
    "                     'fraction_stopword_presence', 'normalization_rate', 'speaker_speed',\n",
    "                     'silent_period_rate']\n",
    "    X = train[feature_names]\n",
    "    y = train['engagement']\n",
    "    test = test[feature_names]\n",
    "    X_train, X_test, y_train, y_test = train_test_split(X,y,random_state=0)\n",
    "    \n",
    "    # Grid Search with Gradient Boosting\n",
    "    # For getting integer values in prediction use RandomForestRegressor()\n",
    "    model = GradientBoostingClassifier()\n",
    "    param_grid = {'n_estimators':[5,7], 'max_depth':[5,10]}\n",
    "    grid_search = GridSearchCV(model, param_grid, scoring=\"roc_auc\")\n",
    "    grid_result = grid_search.fit(X_train, y_train)\n",
    "    \n",
    "    # Taking the id column for printing the results\n",
    "    test2 = pd.read_csv('test.csv')\n",
    "    \n",
    "    # summarize results\n",
    "    print(\"Prediction on ID Values\")\n",
    "    return pd.DataFrame(grid_result.predict(test),test2[\"id\"],columns=['engagement'])\n",
    "    from sklearn.metrics import classification_report,confusion_matrix\n",
    "    "
   ]
  },
  {
   "cell_type": "markdown",
   "id": "fdf0c574",
   "metadata": {},
   "source": [
    "Lets call our function \"engagement_model\" which will run the Machine learning model on the 'test.csv' and predict the viewer engagement"
   ]
  },
  {
   "cell_type": "markdown",
   "id": "9f1f29c3",
   "metadata": {},
   "source": [
    "Here we will be printing the \"id\" and \"engagement\" as our prediction"
   ]
  },
  {
   "cell_type": "code",
   "execution_count": 167,
   "id": "8ae36605",
   "metadata": {},
   "outputs": [
    {
     "name": "stdout",
     "output_type": "stream",
     "text": [
      "Prediction on ID Values\n"
     ]
    },
    {
     "data": {
      "text/html": [
       "<div>\n",
       "<style scoped>\n",
       "    .dataframe tbody tr th:only-of-type {\n",
       "        vertical-align: middle;\n",
       "    }\n",
       "\n",
       "    .dataframe tbody tr th {\n",
       "        vertical-align: top;\n",
       "    }\n",
       "\n",
       "    .dataframe thead th {\n",
       "        text-align: right;\n",
       "    }\n",
       "</style>\n",
       "<table border=\"1\" class=\"dataframe\">\n",
       "  <thead>\n",
       "    <tr style=\"text-align: right;\">\n",
       "      <th></th>\n",
       "      <th>engagement</th>\n",
       "    </tr>\n",
       "    <tr>\n",
       "      <th>id</th>\n",
       "      <th></th>\n",
       "    </tr>\n",
       "  </thead>\n",
       "  <tbody>\n",
       "    <tr>\n",
       "      <th>9240</th>\n",
       "      <td>False</td>\n",
       "    </tr>\n",
       "    <tr>\n",
       "      <th>9241</th>\n",
       "      <td>False</td>\n",
       "    </tr>\n",
       "    <tr>\n",
       "      <th>9242</th>\n",
       "      <td>False</td>\n",
       "    </tr>\n",
       "    <tr>\n",
       "      <th>9243</th>\n",
       "      <td>True</td>\n",
       "    </tr>\n",
       "    <tr>\n",
       "      <th>9244</th>\n",
       "      <td>False</td>\n",
       "    </tr>\n",
       "    <tr>\n",
       "      <th>...</th>\n",
       "      <td>...</td>\n",
       "    </tr>\n",
       "    <tr>\n",
       "      <th>11544</th>\n",
       "      <td>False</td>\n",
       "    </tr>\n",
       "    <tr>\n",
       "      <th>11545</th>\n",
       "      <td>False</td>\n",
       "    </tr>\n",
       "    <tr>\n",
       "      <th>11546</th>\n",
       "      <td>False</td>\n",
       "    </tr>\n",
       "    <tr>\n",
       "      <th>11547</th>\n",
       "      <td>True</td>\n",
       "    </tr>\n",
       "    <tr>\n",
       "      <th>11548</th>\n",
       "      <td>False</td>\n",
       "    </tr>\n",
       "  </tbody>\n",
       "</table>\n",
       "<p>2309 rows × 1 columns</p>\n",
       "</div>"
      ],
      "text/plain": [
       "       engagement\n",
       "id               \n",
       "9240        False\n",
       "9241        False\n",
       "9242        False\n",
       "9243         True\n",
       "9244        False\n",
       "...           ...\n",
       "11544       False\n",
       "11545       False\n",
       "11546       False\n",
       "11547        True\n",
       "11548       False\n",
       "\n",
       "[2309 rows x 1 columns]"
      ]
     },
     "execution_count": 167,
     "metadata": {},
     "output_type": "execute_result"
    }
   ],
   "source": [
    "engagement_model()"
   ]
  },
  {
   "cell_type": "code",
   "execution_count": null,
   "id": "b937cab3",
   "metadata": {},
   "outputs": [],
   "source": []
  }
 ],
 "metadata": {
  "kernelspec": {
   "display_name": "Python 3 (ipykernel)",
   "language": "python",
   "name": "python3"
  },
  "language_info": {
   "codemirror_mode": {
    "name": "ipython",
    "version": 3
   },
   "file_extension": ".py",
   "mimetype": "text/x-python",
   "name": "python",
   "nbconvert_exporter": "python",
   "pygments_lexer": "ipython3",
   "version": "3.10.5"
  }
 },
 "nbformat": 4,
 "nbformat_minor": 5
}
